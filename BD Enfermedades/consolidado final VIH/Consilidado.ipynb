{
 "cells": [
  {
   "cell_type": "code",
   "execution_count": 1,
   "metadata": {},
   "outputs": [],
   "source": [
    "import pandas as pd\n",
    "import glob\n",
    "import numpy as np\n",
    "import xlsxwriter\n",
    "import os\n",
    "import os.path"
   ]
  },
  {
   "cell_type": "code",
   "execution_count": 2,
   "metadata": {},
   "outputs": [],
   "source": [
    "file = \"*.xlsx\"\n",
    "files = glob.glob(file)\n",
    "\n",
    "archivos = np.array(files)\n",
    "final = 'consolidado_final_vih.xlsx'"
   ]
  },
  {
   "cell_type": "code",
   "execution_count": 3,
   "metadata": {},
   "outputs": [],
   "source": [
    "if (os.path.isfile(final)):\n",
    "    os.remove(final)\n",
    "else: \n",
    "    workbook = xlsxwriter.Workbook(final)\n",
    "    workbook.close()"
   ]
  },
  {
   "cell_type": "code",
   "execution_count": 4,
   "metadata": {},
   "outputs": [],
   "source": [
    "for i in range(len(files)):\n",
    "    # Crear un archivo vacío llamado TRABAJOS_FINAL para almacenar los datos en él.\n",
    "    df_inicial = pd.read_excel(final)\n",
    "    df_inicial\n",
    "    \n",
    "    if(str(archivos[i])!=final):\n",
    "        df = pd.read_excel(archivos[i])\n",
    "\n",
    "        n = df_inicial.append([df])\n",
    "        n.to_excel(final, index=False)"
   ]
  },
  {
   "cell_type": "code",
   "execution_count": null,
   "metadata": {},
   "outputs": [],
   "source": []
  }
 ],
 "metadata": {
  "kernelspec": {
   "display_name": "Python 3",
   "language": "python",
   "name": "python3"
  },
  "language_info": {
   "codemirror_mode": {
    "name": "ipython",
    "version": 3
   },
   "file_extension": ".py",
   "mimetype": "text/x-python",
   "name": "python",
   "nbconvert_exporter": "python",
   "pygments_lexer": "ipython3",
   "version": "3.8.3"
  }
 },
 "nbformat": 4,
 "nbformat_minor": 4
}
